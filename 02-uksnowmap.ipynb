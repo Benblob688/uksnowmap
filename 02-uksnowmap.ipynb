{
 "cells": [
  {
   "cell_type": "code",
   "execution_count": 2,
   "metadata": {
    "collapsed": true
   },
   "outputs": [],
   "source": [
    "import csv\n",
    "import numpy as np"
   ]
  },
  {
   "cell_type": "code",
   "execution_count": 11,
   "metadata": {
    "collapsed": false
   },
   "outputs": [],
   "source": [
    "# loop over each MO file\n",
    "for fnum in range(12,15):\n",
    "    input_file = str(fnum) + '.txt'\n",
    "    # read in MO file\n",
    "    rawdata = open(input_file).read().splitlines()\n",
    "    for i in range(0,len(rawdata)):\n",
    "        rawdata[i] = rawdata[i].split()\n",
    "    # sort out data from MO file\n",
    "    sortdata = np.zeros([len(rawdata),9])\n",
    "    for row in range(0,len(rawdata)):\n",
    "        for col in [0, 1, 2, 3, 4, 5, 6, 7, 10]:        \n",
    "            if col==10:\n",
    "                scol==8\n",
    "            else:\n",
    "                scol=col\n",
    "            sortdata[row,scol] = rawdata[row][col]\n",
    "    # simplify weather codes to 1/0 for yes/no snow\n",
    "    for row in range(0,len(sortdata)):\n",
    "        if 2<=sortdata[row,7]<=4\\\n",
    "        or sortdata[row,7]==6\\\n",
    "        or sortdata[row,7]==24\\\n",
    "        or sortdata[row,7]==146\\\n",
    "        or sortdata[row,7]==16\\\n",
    "        or sortdata[row,7]==134\\\n",
    "        or sortdata[row,7]==14\\\n",
    "        or sortdata[row,7]==12\\\n",
    "        or sortdata[row,7]==2346\\\n",
    "        or sortdata[row,7]==12346\\\n",
    "        or sortdata[row,7]==1234\\\n",
    "        or sortdata[row,7]==234:\n",
    "            sortdata[row,7]=1\n",
    "        else:\n",
    "            sortdata[row,7]=0\n",
    "    # write output sorted data for each MO file\n",
    "    np.savetxt('Out'+str(fnum)+'.txt',sortdata,fmt='%10.0f',delimiter=',')"
   ]
  },
  {
   "cell_type": "code",
   "execution_count": null,
   "metadata": {
    "collapsed": true
   },
   "outputs": [],
   "source": []
  }
 ],
 "metadata": {
  "anaconda-cloud": {},
  "kernelspec": {
   "display_name": "Python [default]",
   "language": "python",
   "name": "python3"
  },
  "language_info": {
   "codemirror_mode": {
    "name": "ipython",
    "version": 3
   },
   "file_extension": ".py",
   "mimetype": "text/x-python",
   "name": "python",
   "nbconvert_exporter": "python",
   "pygments_lexer": "ipython3",
   "version": "3.5.2"
  }
 },
 "nbformat": 4,
 "nbformat_minor": 1
}
