{
 "cells": [
  {
   "cell_type": "code",
   "execution_count": 1,
   "metadata": {
    "collapsed": true
   },
   "outputs": [],
   "source": [
    "import csv\n",
    "import numpy as np"
   ]
  },
  {
   "cell_type": "code",
   "execution_count": null,
   "metadata": {
    "collapsed": false
   },
   "outputs": [],
   "source": [
    "# loop over each MO file\n",
    "for fnum in range(11,37):\n",
    "    input_file = srt(fnum) + '.txt'\n",
    "    # read in MO file\n",
    "    rawdata = open(input_file).read().splitlines()\n",
    "    for i in range(0,len(rawdata)):\n",
    "        rawdata[i] = rawdata[i].split()\n",
    "    # sort out data from MO file\n",
    "    sortdata = np.zeros([len(rawdata),7])\n",
    "    for row in range(0,len(rawdata)):\n",
    "        for col in [0, 1, 2, 3, 5, 6, 10]:        \n",
    "            if col==10:\n",
    "                scol==7\n",
    "            else:\n",
    "                scol=col\n",
    "            sortdata[row,scol] = rawdata[row][col]\n",
    "    # simplify weather codes to 1/0 for yes/no snow\n",
    "    for row in range(0,len(sortdata)):\n",
    "        if 2<=sortdata[row,6]<=4 or sortdata[row,6]==6:\n",
    "            sortdata[row,6]=1\n",
    "        else:\n",
    "            sortdata[row,6]=0\n",
    "    # write output sorted data for each MO file\n",
    "    np.savetxt(str(fnum)+'.txt',sortdata,fmt='%10.0f',delimiter=',')"
   ]
  }
 ],
 "metadata": {
  "anaconda-cloud": {},
  "kernelspec": {
   "display_name": "Python [default]",
   "language": "python",
   "name": "python3"
  },
  "language_info": {
   "codemirror_mode": {
    "name": "ipython",
    "version": 3
   },
   "file_extension": ".py",
   "mimetype": "text/x-python",
   "name": "python",
   "nbconvert_exporter": "python",
   "pygments_lexer": "ipython3",
   "version": "3.5.2"
  }
 },
 "nbformat": 4,
 "nbformat_minor": 1
}
