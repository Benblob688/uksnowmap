{
 "cells": [
  {
   "cell_type": "code",
   "execution_count": 1,
   "metadata": {
    "collapsed": true
   },
   "outputs": [],
   "source": [
    "import csv\n",
    "import numpy as np"
   ]
  },
  {
   "cell_type": "code",
   "execution_count": 10,
   "metadata": {
    "collapsed": false
   },
   "outputs": [
    {
     "name": "stdout",
     "output_type": "stream",
     "text": [
      "['2013', '12', '1', '0', '3002', '462787', '1207987', '0', '104', '0', '0', '255', '255', '255', '255', '255', '255', '255', '255', '255', '255', '255', '255', '255', '255', '255', '255', '255', '255', '255', '255', '255', '255', '255', '255', '255', '255', '255', '255', '255', '255', '255', '255', '255', '255', '255', '255', '255', '255', '255', '255', '255', '255', '255', '255', '255']\n"
     ]
    }
   ],
   "source": [
    "input_file = '12.txt'\n",
    "rawdata = open(input_file).read().splitlines()\n",
    "for i in range(0,len(rawdata)):\n",
    "    rawdata[i] = rawdata[i].split()\n",
    "\n",
    "print(rawdata[0])"
   ]
  },
  {
   "cell_type": "code",
   "execution_count": 52,
   "metadata": {
    "collapsed": false
   },
   "outputs": [
    {
     "name": "stdout",
     "output_type": "stream",
     "text": [
      "128081\n",
      "2013\n"
     ]
    }
   ],
   "source": [
    "print(len(rawdata))\n",
    "print(rawdata[0][0])"
   ]
  },
  {
   "cell_type": "code",
   "execution_count": 49,
   "metadata": {
    "collapsed": false
   },
   "outputs": [
    {
     "name": "stdout",
     "output_type": "stream",
     "text": [
      "(128081, 7)\n",
      "[  2.01300000e+03   1.20000000e+01   1.00000000e+00   2.00000000e+00\n",
      "   0.00000000e+00   4.45488000e+05   1.00000000e+00]\n",
      "1.0\n"
     ]
    }
   ],
   "source": [
    "sortdata = np.zeros([len(rawdata),7])\n",
    "for row in range(0,len(rawdata)):\n",
    "    for col in [0, 1, 2, 3, 5, 6, 10]:        \n",
    "        if col==10:\n",
    "            scol==7\n",
    "        else:\n",
    "            scol=col\n",
    "        sortdata[row,scol] = rawdata[row][col]\n",
    "        \n",
    "print(sortdata.shape)\n",
    "print(sortdata[8])\n",
    "print(sortdata[8,6])"
   ]
  },
  {
   "cell_type": "code",
   "execution_count": 51,
   "metadata": {
    "collapsed": false
   },
   "outputs": [
    {
     "name": "stdout",
     "output_type": "stream",
     "text": [
      "(128081, 7)\n",
      "[  2.01300000e+03   1.20000000e+01   1.00000000e+00   2.00000000e+00\n",
      "   0.00000000e+00   4.45488000e+05   0.00000000e+00]\n",
      "0.0\n"
     ]
    }
   ],
   "source": [
    "for row in range(0,len(sortdata)):\n",
    "    if 2<=sortdata[row,6]<=4 or sortdata[row,6]==6:\n",
    "        sortdata[row,6]=1\n",
    "    else:\n",
    "        sortdata[row,6]=0\n",
    "        \n",
    "#print(sortdata.shape)\n",
    "#print(sortdata[8])\n",
    "#print(sortdata[8,6])"
   ]
  },
  {
   "cell_type": "code",
   "execution_count": null,
   "metadata": {
    "collapsed": true
   },
   "outputs": [],
   "source": []
  }
 ],
 "metadata": {
  "anaconda-cloud": {},
  "kernelspec": {
   "display_name": "Python [default]",
   "language": "python",
   "name": "python3"
  },
  "language_info": {
   "codemirror_mode": {
    "name": "ipython",
    "version": 3
   },
   "file_extension": ".py",
   "mimetype": "text/x-python",
   "name": "python",
   "nbconvert_exporter": "python",
   "pygments_lexer": "ipython3",
   "version": "3.5.2"
  }
 },
 "nbformat": 4,
 "nbformat_minor": 1
}
