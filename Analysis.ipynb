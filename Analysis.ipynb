{
 "cells": [
  {
   "cell_type": "code",
   "execution_count": 2,
   "metadata": {
    "collapsed": true
   },
   "outputs": [],
   "source": [
    "from __future__ import print_function\n",
    "from __future__ import division\n",
    "import matplotlib.pyplot as plt\n",
    "%matplotlib inline\n",
    "from IPython.display import display,clear_output\n",
    "import numpy as np\n",
    "import math\n",
    "import matplotlib\n",
    "matplotlib.rcParams.update({'font.size': 18})\n",
    "from pylab import rcParams\n",
    "rcParams['figure.figsize'] = 20, 8\n",
    "\n",
    "import datetime\n",
    "import pandas as pd\n",
    "import scipy as sc\n",
    "from scipy import stats"
   ]
  },
  {
   "cell_type": "markdown",
   "metadata": {},
   "source": [
    "# INGEST THE data FILE AND ANALYSE THE OUTPUT"
   ]
  },
  {
   "cell_type": "code",
   "execution_count": 3,
   "metadata": {
    "collapsed": false
   },
   "outputs": [
    {
     "name": "stdout",
     "output_type": "stream",
     "text": [
      "2013\n"
     ]
    }
   ],
   "source": [
    "# Open the file split by line and make a list\n",
    "data = open('10.txt').read().splitlines()\n",
    "\n",
    "# Split each datapoint up within a minute\n",
    "for i in range(0,len(data)): data[i] = data[i].split(',')\n",
    "\n",
    "print (int(data[3928][0]))"
   ]
  },
  {
   "cell_type": "code",
   "execution_count": 4,
   "metadata": {
    "collapsed": false
   },
   "outputs": [
    {
     "name": "stdout",
     "output_type": "stream",
     "text": [
      "16595\n"
     ]
    }
   ],
   "source": [
    "# Turn data into np.array format\n",
    "mash = np.zeros([len(data),56])\n",
    "for i in range (0,(len(data))):\n",
    "    for j in range (0,56):\n",
    "        mash[i,j]=int(data[i][j])\n",
    "        \n",
    "print (len(mash))"
   ]
  },
  {
   "cell_type": "code",
   "execution_count": 5,
   "metadata": {
    "collapsed": false
   },
   "outputs": [],
   "source": [
    "# create allot array\n",
    "allot = np.zeros([46*len(mash),2])"
   ]
  },
  {
   "cell_type": "code",
   "execution_count": 6,
   "metadata": {
    "collapsed": false
   },
   "outputs": [],
   "source": [
    "# Copy all radar variables\n",
    "k=-1\n",
    "for i in range (0,(len(mash))):\n",
    "    for j in range (11,56):\n",
    "        k+=1\n",
    "        allot[k,1] = mash[i,j]"
   ]
  },
  {
   "cell_type": "code",
   "execution_count": 7,
   "metadata": {
    "collapsed": false
   },
   "outputs": [
    {
     "name": "stdout",
     "output_type": "stream",
     "text": [
      "5972841.0\n",
      "5972841.0\n"
     ]
    }
   ],
   "source": [
    "# Sanity check...\n",
    "print (sum(allot[:,1]))\n",
    "print (sum(sum(mash[:,11:56])))"
   ]
  },
  {
   "cell_type": "code",
   "execution_count": 8,
   "metadata": {
    "collapsed": false
   },
   "outputs": [],
   "source": [
    "# write synop report numbers to allot\n",
    "k=-1\n",
    "for i in range (0,len(mash)):\n",
    "    for repeat in range (0,45):\n",
    "        k+=1\n",
    "        allot[k,0] = mash[i,9]"
   ]
  },
  {
   "cell_type": "code",
   "execution_count": 9,
   "metadata": {
    "collapsed": false
   },
   "outputs": [
    {
     "name": "stdout",
     "output_type": "stream",
     "text": [
      "7784.0\n",
      "7784.0\n"
     ]
    }
   ],
   "source": [
    "# Sanity check #2...\n",
    "print (sum(allot[:,0])/45)\n",
    "print (sum(mash[:,9]))"
   ]
  },
  {
   "cell_type": "code",
   "execution_count": 10,
   "metadata": {
    "collapsed": false
   },
   "outputs": [
    {
     "name": "stderr",
     "output_type": "stream",
     "text": [
      "/Users/eebp/anaconda/envs/Python2/lib/python2.7/site-packages/ipykernel/__main__.py:11: VisibleDeprecationWarning: using a non-integer number instead of an integer will result in an error in the future\n"
     ]
    }
   ],
   "source": [
    "# Make the results table\n",
    "result = np.zeros([7,7])\n",
    "offline=0\n",
    "ambiguous=0\n",
    "for i in range (0,len(allot)):\n",
    "            if allot[i,1]==255.:\n",
    "                offline+=1\n",
    "            elif allot[i,0]==99.:\n",
    "                ambiguous+=1\n",
    "            else:\n",
    "                result[allot[i,0],allot[i,1]]+=1"
   ]
  },
  {
   "cell_type": "code",
   "execution_count": 14,
   "metadata": {
    "collapsed": false
   },
   "outputs": [
    {
     "name": "stdout",
     "output_type": "stream",
     "text": [
      "[[  5.72831000e+05   6.24150000e+04   3.96000000e+02   4.68000000e+02\n",
      "    5.22000000e+02   0.00000000e+00   0.00000000e+00]\n",
      " [  5.06880000e+04   4.95990000e+04   9.00000000e+00   1.80000000e+01\n",
      "    0.00000000e+00   0.00000000e+00   0.00000000e+00]\n",
      " [  0.00000000e+00   0.00000000e+00   0.00000000e+00   0.00000000e+00\n",
      "    0.00000000e+00   0.00000000e+00   0.00000000e+00]\n",
      " [  0.00000000e+00   0.00000000e+00   0.00000000e+00   0.00000000e+00\n",
      "    0.00000000e+00   0.00000000e+00   0.00000000e+00]\n",
      " [  0.00000000e+00   0.00000000e+00   0.00000000e+00   0.00000000e+00\n",
      "    0.00000000e+00   0.00000000e+00   0.00000000e+00]\n",
      " [  0.00000000e+00   0.00000000e+00   0.00000000e+00   0.00000000e+00\n",
      "    0.00000000e+00   0.00000000e+00   0.00000000e+00]\n",
      " [  3.42000000e+02   6.93000000e+02   0.00000000e+00   0.00000000e+00\n",
      "    0.00000000e+00   0.00000000e+00   0.00000000e+00]]\n",
      "22959\n",
      "2430\n"
     ]
    }
   ],
   "source": [
    "print (result)\n",
    "print (offline)\n",
    "print (ambiguous)"
   ]
  },
  {
   "cell_type": "code",
   "execution_count": 13,
   "metadata": {
    "collapsed": false
   },
   "outputs": [
    {
     "data": {
      "text/plain": [
       "<matplotlib.image.AxesImage at 0x11a4f7290>"
      ]
     },
     "execution_count": 13,
     "metadata": {},
     "output_type": "execute_result"
    },
    {
     "data": {
      "image/png": "[encoded data removed]",
      "text/plain": [
       "<matplotlib.figure.Figure at 0x104333550>"
      ]
     },
     "metadata": {},
     "output_type": "display_data"
    }
   ],
   "source": [
    "from matplotlib.colors import LinearSegmentedColormap\n",
    "\n",
    "\n",
    "clevs = [-1,0.9,1.9,2.9,3.9,4.9,5.9,6.9,9]\n",
    "\n",
    "colors = [(1, 1, 1), (0, 0, 1), (0, 1, 0), (1, 1, 0), (0, 1, 1), (1, 0, 1), (1, 0, 0), (0, 0, 0)]  # R -> G -> B -> Y -> Cy -> Ma -> Wh\n",
    "n_bins = 572831  # Discretizes the interpolation into bins\n",
    "cmap_name = 'Precip_Type'\n",
    "# Create the colormap\n",
    "cm = LinearSegmentedColormap.from_list(cmap_name, colors, N=n_bins)\n",
    "\n",
    "plt.imshow(result[0:,0:], interpolation='nearest', origin='upper', cmap=cm)"
   ]
  },
  {
   "cell_type": "code",
   "execution_count": null,
   "metadata": {
    "collapsed": true
   },
   "outputs": [],
   "source": []
  },
  {
   "cell_type": "code",
   "execution_count": null,
   "metadata": {
    "collapsed": true
   },
   "outputs": [],
   "source": []
  }
 ],
 "metadata": {
  "anaconda-cloud": {},
  "kernelspec": {
   "display_name": "Python [default]",
   "language": "python",
   "name": "python2"
  },
  "language_info": {
   "codemirror_mode": {
    "name": "ipython",
    "version": 2
   },
   "file_extension": ".py",
   "mimetype": "text/x-python",
   "name": "python",
   "nbconvert_exporter": "python",
   "pygments_lexer": "ipython2",
   "version": "2.7.12"
  }
 },
 "nbformat": 4,
 "nbformat_minor": 0
}
